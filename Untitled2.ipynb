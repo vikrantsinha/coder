{
 "cells": [
  {
   "cell_type": "code",
   "execution_count": 1,
   "metadata": {},
   "outputs": [],
   "source": [
    "import pandas as pd\n",
    "import numpy as np \n",
    "import matplotlib.pyplot as plt\n",
    "import seaborn as sns"
   ]
  },
  {
   "cell_type": "code",
   "execution_count": 2,
   "metadata": {},
   "outputs": [],
   "source": [
    "data = pd.read_csv('supermarket purchase.csv')"
   ]
  },
  {
   "cell_type": "code",
   "execution_count": 3,
   "metadata": {},
   "outputs": [
    {
     "data": {
      "text/html": [
       "<div>\n",
       "<style scoped>\n",
       "    .dataframe tbody tr th:only-of-type {\n",
       "        vertical-align: middle;\n",
       "    }\n",
       "\n",
       "    .dataframe tbody tr th {\n",
       "        vertical-align: top;\n",
       "    }\n",
       "\n",
       "    .dataframe thead th {\n",
       "        text-align: right;\n",
       "    }\n",
       "</style>\n",
       "<table border=\"1\" class=\"dataframe\">\n",
       "  <thead>\n",
       "    <tr style=\"text-align: right;\">\n",
       "      <th></th>\n",
       "      <th>Age</th>\n",
       "      <th>Job Type</th>\n",
       "      <th>Marital Status</th>\n",
       "      <th>Education</th>\n",
       "      <th>Metro City</th>\n",
       "      <th>Signed in since(Days)</th>\n",
       "      <th>Purchase made</th>\n",
       "    </tr>\n",
       "  </thead>\n",
       "  <tbody>\n",
       "    <tr>\n",
       "      <th>0</th>\n",
       "      <td>28.0</td>\n",
       "      <td>Unemployed</td>\n",
       "      <td>No</td>\n",
       "      <td>Graduate</td>\n",
       "      <td>No</td>\n",
       "      <td>32</td>\n",
       "      <td>261.4689</td>\n",
       "    </tr>\n",
       "    <tr>\n",
       "      <th>1</th>\n",
       "      <td>57.0</td>\n",
       "      <td>Retired</td>\n",
       "      <td>Yes</td>\n",
       "      <td>Graduate</td>\n",
       "      <td>Yes</td>\n",
       "      <td>31</td>\n",
       "      <td>273.9025</td>\n",
       "    </tr>\n",
       "    <tr>\n",
       "      <th>2</th>\n",
       "      <td>27.0</td>\n",
       "      <td>Student</td>\n",
       "      <td>Yes</td>\n",
       "      <td>Graduate</td>\n",
       "      <td>Yes</td>\n",
       "      <td>31</td>\n",
       "      <td>275.8921</td>\n",
       "    </tr>\n",
       "    <tr>\n",
       "      <th>3</th>\n",
       "      <td>23.0</td>\n",
       "      <td>Unemployed</td>\n",
       "      <td>Yes</td>\n",
       "      <td>Secondry</td>\n",
       "      <td>Yes</td>\n",
       "      <td>34</td>\n",
       "      <td>295.1524</td>\n",
       "    </tr>\n",
       "    <tr>\n",
       "      <th>4</th>\n",
       "      <td>23.0</td>\n",
       "      <td>Employed</td>\n",
       "      <td>Yes</td>\n",
       "      <td>Graduate</td>\n",
       "      <td>Yes</td>\n",
       "      <td>42</td>\n",
       "      <td>325.0809</td>\n",
       "    </tr>\n",
       "  </tbody>\n",
       "</table>\n",
       "</div>"
      ],
      "text/plain": [
       "    Age    Job Type Marital Status Education Metro City  \\\n",
       "0  28.0  Unemployed             No  Graduate         No   \n",
       "1  57.0     Retired            Yes  Graduate        Yes   \n",
       "2  27.0     Student            Yes  Graduate        Yes   \n",
       "3  23.0  Unemployed            Yes  Secondry        Yes   \n",
       "4  23.0    Employed            Yes  Graduate        Yes   \n",
       "\n",
       "   Signed in since(Days)  Purchase made  \n",
       "0                     32       261.4689  \n",
       "1                     31       273.9025  \n",
       "2                     31       275.8921  \n",
       "3                     34       295.1524  \n",
       "4                     42       325.0809  "
      ]
     },
     "execution_count": 3,
     "metadata": {},
     "output_type": "execute_result"
    }
   ],
   "source": [
    "data.head()"
   ]
  },
  {
   "cell_type": "code",
   "execution_count": 4,
   "metadata": {},
   "outputs": [
    {
     "data": {
      "text/plain": [
       "Age                      13\n",
       "Job Type                  0\n",
       "Marital Status            0\n",
       "Education                 0\n",
       "Metro City                0\n",
       "Signed in since(Days)     0\n",
       "Purchase made             0\n",
       "dtype: int64"
      ]
     },
     "execution_count": 4,
     "metadata": {},
     "output_type": "execute_result"
    }
   ],
   "source": [
    "data.isnull().sum()"
   ]
  },
  {
   "cell_type": "code",
   "execution_count": 5,
   "metadata": {},
   "outputs": [
    {
     "data": {
      "text/plain": [
       "4.0"
      ]
     },
     "execution_count": 5,
     "metadata": {},
     "output_type": "execute_result"
    }
   ],
   "source": [
    "13/len(data['Age'])*100"
   ]
  },
  {
   "cell_type": "code",
   "execution_count": 6,
   "metadata": {},
   "outputs": [
    {
     "name": "stderr",
     "output_type": "stream",
     "text": [
      "c:\\python38\\lib\\site-packages\\numpy\\lib\\histograms.py:839: RuntimeWarning: invalid value encountered in greater_equal\n",
      "  keep = (tmp_a >= first_edge)\n",
      "c:\\python38\\lib\\site-packages\\numpy\\lib\\histograms.py:840: RuntimeWarning: invalid value encountered in less_equal\n",
      "  keep &= (tmp_a <= last_edge)\n"
     ]
    },
    {
     "data": {
      "text/plain": [
       "(array([27., 42., 58., 52., 43., 66.,  4., 11.,  7.,  2.]),\n",
       " array([23. , 27.2, 31.4, 35.6, 39.8, 44. , 48.2, 52.4, 56.6, 60.8, 65. ]),\n",
       " <a list of 10 Patch objects>)"
      ]
     },
     "execution_count": 6,
     "metadata": {},
     "output_type": "execute_result"
    },
    {
     "data": {
      "image/png": "[encoded data removed]",
      "text/plain": [
       "<Figure size 432x288 with 1 Axes>"
      ]
     },
     "metadata": {
      "needs_background": "light"
     },
     "output_type": "display_data"
    }
   ],
   "source": [
    "plt.hist(data['Age'])"
   ]
  },
  {
   "cell_type": "code",
   "execution_count": 7,
   "metadata": {},
   "outputs": [],
   "source": [
    "data['Age']=data['Age'].fillna(data['Age'].median())"
   ]
  },
  {
   "cell_type": "code",
   "execution_count": 8,
   "metadata": {},
   "outputs": [
    {
     "data": {
      "text/plain": [
       "0"
      ]
     },
     "execution_count": 8,
     "metadata": {},
     "output_type": "execute_result"
    }
   ],
   "source": [
    "data['Age'].isna().sum()"
   ]
  },
  {
   "cell_type": "code",
   "execution_count": 9,
   "metadata": {},
   "outputs": [
    {
     "data": {
      "text/html": [
       "<div>\n",
       "<style scoped>\n",
       "    .dataframe tbody tr th:only-of-type {\n",
       "        vertical-align: middle;\n",
       "    }\n",
       "\n",
       "    .dataframe tbody tr th {\n",
       "        vertical-align: top;\n",
       "    }\n",
       "\n",
       "    .dataframe thead th {\n",
       "        text-align: right;\n",
       "    }\n",
       "</style>\n",
       "<table border=\"1\" class=\"dataframe\">\n",
       "  <thead>\n",
       "    <tr style=\"text-align: right;\">\n",
       "      <th></th>\n",
       "      <th>Age</th>\n",
       "      <th>Job Type</th>\n",
       "      <th>Marital Status</th>\n",
       "      <th>Education</th>\n",
       "      <th>Metro City</th>\n",
       "      <th>Signed in since(Days)</th>\n",
       "      <th>Purchase made</th>\n",
       "    </tr>\n",
       "  </thead>\n",
       "  <tbody>\n",
       "    <tr>\n",
       "      <th>0</th>\n",
       "      <td>28.0</td>\n",
       "      <td>Unemployed</td>\n",
       "      <td>No</td>\n",
       "      <td>Graduate</td>\n",
       "      <td>No</td>\n",
       "      <td>32</td>\n",
       "      <td>261.4689</td>\n",
       "    </tr>\n",
       "    <tr>\n",
       "      <th>1</th>\n",
       "      <td>57.0</td>\n",
       "      <td>Retired</td>\n",
       "      <td>Yes</td>\n",
       "      <td>Graduate</td>\n",
       "      <td>Yes</td>\n",
       "      <td>31</td>\n",
       "      <td>273.9025</td>\n",
       "    </tr>\n",
       "    <tr>\n",
       "      <th>2</th>\n",
       "      <td>27.0</td>\n",
       "      <td>Student</td>\n",
       "      <td>Yes</td>\n",
       "      <td>Graduate</td>\n",
       "      <td>Yes</td>\n",
       "      <td>31</td>\n",
       "      <td>275.8921</td>\n",
       "    </tr>\n",
       "    <tr>\n",
       "      <th>3</th>\n",
       "      <td>23.0</td>\n",
       "      <td>Unemployed</td>\n",
       "      <td>Yes</td>\n",
       "      <td>Secondry</td>\n",
       "      <td>Yes</td>\n",
       "      <td>34</td>\n",
       "      <td>295.1524</td>\n",
       "    </tr>\n",
       "    <tr>\n",
       "      <th>4</th>\n",
       "      <td>23.0</td>\n",
       "      <td>Employed</td>\n",
       "      <td>Yes</td>\n",
       "      <td>Graduate</td>\n",
       "      <td>Yes</td>\n",
       "      <td>42</td>\n",
       "      <td>325.0809</td>\n",
       "    </tr>\n",
       "  </tbody>\n",
       "</table>\n",
       "</div>"
      ],
      "text/plain": [
       "    Age    Job Type Marital Status Education Metro City  \\\n",
       "0  28.0  Unemployed             No  Graduate         No   \n",
       "1  57.0     Retired            Yes  Graduate        Yes   \n",
       "2  27.0     Student            Yes  Graduate        Yes   \n",
       "3  23.0  Unemployed            Yes  Secondry        Yes   \n",
       "4  23.0    Employed            Yes  Graduate        Yes   \n",
       "\n",
       "   Signed in since(Days)  Purchase made  \n",
       "0                     32       261.4689  \n",
       "1                     31       273.9025  \n",
       "2                     31       275.8921  \n",
       "3                     34       295.1524  \n",
       "4                     42       325.0809  "
      ]
     },
     "execution_count": 9,
     "metadata": {},
     "output_type": "execute_result"
    }
   ],
   "source": [
    "data.head()"
   ]
  },
  {
   "cell_type": "code",
   "execution_count": 10,
   "metadata": {},
   "outputs": [
    {
     "data": {
      "text/plain": [
       "Employed      236\n",
       "Unemployed     51\n",
       "Retired        31\n",
       "Student         7\n",
       "Name: Job Type, dtype: int64"
      ]
     },
     "execution_count": 10,
     "metadata": {},
     "output_type": "execute_result"
    }
   ],
   "source": [
    "data['Job Type'].value_counts()"
   ]
  },
  {
   "cell_type": "code",
   "execution_count": 11,
   "metadata": {},
   "outputs": [
    {
     "data": {
      "text/plain": [
       "Graduate    237\n",
       "Secondry     86\n",
       "Primary       2\n",
       "Name: Education, dtype: int64"
      ]
     },
     "execution_count": 11,
     "metadata": {},
     "output_type": "execute_result"
    }
   ],
   "source": [
    "data['Education'].value_counts()"
   ]
  },
  {
   "cell_type": "code",
   "execution_count": 12,
   "metadata": {},
   "outputs": [],
   "source": [
    "from sklearn.preprocessing import LabelEncoder\n",
    "le= LabelEncoder()"
   ]
  },
  {
   "cell_type": "code",
   "execution_count": 13,
   "metadata": {},
   "outputs": [],
   "source": [
    "data['Job Type'] = le.fit_transform(data['Job Type'])"
   ]
  },
  {
   "cell_type": "code",
   "execution_count": 14,
   "metadata": {},
   "outputs": [],
   "source": [
    "data['Marital Status']=le.fit_transform(data['Marital Status'])"
   ]
  },
  {
   "cell_type": "code",
   "execution_count": 15,
   "metadata": {},
   "outputs": [],
   "source": [
    "data['Education'] = le.fit_transform(data['Education'])"
   ]
  },
  {
   "cell_type": "code",
   "execution_count": 16,
   "metadata": {},
   "outputs": [],
   "source": [
    "data['Metro City'] = le.fit_transform(data['Metro City'])"
   ]
  },
  {
   "cell_type": "code",
   "execution_count": 17,
   "metadata": {},
   "outputs": [
    {
     "data": {
      "text/html": [
       "<div>\n",
       "<style scoped>\n",
       "    .dataframe tbody tr th:only-of-type {\n",
       "        vertical-align: middle;\n",
       "    }\n",
       "\n",
       "    .dataframe tbody tr th {\n",
       "        vertical-align: top;\n",
       "    }\n",
       "\n",
       "    .dataframe thead th {\n",
       "        text-align: right;\n",
       "    }\n",
       "</style>\n",
       "<table border=\"1\" class=\"dataframe\">\n",
       "  <thead>\n",
       "    <tr style=\"text-align: right;\">\n",
       "      <th></th>\n",
       "      <th>Age</th>\n",
       "      <th>Job Type</th>\n",
       "      <th>Marital Status</th>\n",
       "      <th>Education</th>\n",
       "      <th>Metro City</th>\n",
       "      <th>Signed in since(Days)</th>\n",
       "      <th>Purchase made</th>\n",
       "    </tr>\n",
       "  </thead>\n",
       "  <tbody>\n",
       "    <tr>\n",
       "      <th>0</th>\n",
       "      <td>28.0</td>\n",
       "      <td>3</td>\n",
       "      <td>0</td>\n",
       "      <td>0</td>\n",
       "      <td>0</td>\n",
       "      <td>32</td>\n",
       "      <td>261.4689</td>\n",
       "    </tr>\n",
       "    <tr>\n",
       "      <th>1</th>\n",
       "      <td>57.0</td>\n",
       "      <td>1</td>\n",
       "      <td>1</td>\n",
       "      <td>0</td>\n",
       "      <td>1</td>\n",
       "      <td>31</td>\n",
       "      <td>273.9025</td>\n",
       "    </tr>\n",
       "    <tr>\n",
       "      <th>2</th>\n",
       "      <td>27.0</td>\n",
       "      <td>2</td>\n",
       "      <td>1</td>\n",
       "      <td>0</td>\n",
       "      <td>1</td>\n",
       "      <td>31</td>\n",
       "      <td>275.8921</td>\n",
       "    </tr>\n",
       "    <tr>\n",
       "      <th>3</th>\n",
       "      <td>23.0</td>\n",
       "      <td>3</td>\n",
       "      <td>1</td>\n",
       "      <td>2</td>\n",
       "      <td>1</td>\n",
       "      <td>34</td>\n",
       "      <td>295.1524</td>\n",
       "    </tr>\n",
       "    <tr>\n",
       "      <th>4</th>\n",
       "      <td>23.0</td>\n",
       "      <td>0</td>\n",
       "      <td>1</td>\n",
       "      <td>0</td>\n",
       "      <td>1</td>\n",
       "      <td>42</td>\n",
       "      <td>325.0809</td>\n",
       "    </tr>\n",
       "  </tbody>\n",
       "</table>\n",
       "</div>"
      ],
      "text/plain": [
       "    Age  Job Type  Marital Status  Education  Metro City  \\\n",
       "0  28.0         3               0          0           0   \n",
       "1  57.0         1               1          0           1   \n",
       "2  27.0         2               1          0           1   \n",
       "3  23.0         3               1          2           1   \n",
       "4  23.0         0               1          0           1   \n",
       "\n",
       "   Signed in since(Days)  Purchase made  \n",
       "0                     32       261.4689  \n",
       "1                     31       273.9025  \n",
       "2                     31       275.8921  \n",
       "3                     34       295.1524  \n",
       "4                     42       325.0809  "
      ]
     },
     "execution_count": 17,
     "metadata": {},
     "output_type": "execute_result"
    }
   ],
   "source": [
    "data.head()"
   ]
  },
  {
   "cell_type": "markdown",
   "metadata": {},
   "source": [
    "## Outlier detection and treating"
   ]
  },
  {
   "cell_type": "code",
   "execution_count": 18,
   "metadata": {},
   "outputs": [
    {
     "data": {
      "text/plain": [
       "Index(['Age', 'Job Type', 'Marital Status', 'Education', 'Metro City',\n",
       "       'Signed in since(Days)', 'Purchase made'],\n",
       "      dtype='object')"
      ]
     },
     "execution_count": 18,
     "metadata": {},
     "output_type": "execute_result"
    }
   ],
   "source": [
    "data.columns"
   ]
  },
  {
   "cell_type": "code",
   "execution_count": 19,
   "metadata": {},
   "outputs": [
    {
     "data": {
      "text/plain": [
       "<matplotlib.axes._subplots.AxesSubplot at 0x18172c8>"
      ]
     },
     "execution_count": 19,
     "metadata": {},
     "output_type": "execute_result"
    },
    {
     "data": {
      "image/png": "[encoded data removed]",
      "text/plain": [
       "<Figure size 432x288 with 1 Axes>"
      ]
     },
     "metadata": {
      "needs_background": "light"
     },
     "output_type": "display_data"
    }
   ],
   "source": [
    "sns.boxplot(data['Age'])"
   ]
  },
  {
   "cell_type": "code",
   "execution_count": 20,
   "metadata": {},
   "outputs": [
    {
     "data": {
      "text/plain": [
       "59.0"
      ]
     },
     "execution_count": 20,
     "metadata": {},
     "output_type": "execute_result"
    }
   ],
   "source": [
    "data['Age'].quantile(0.99)"
   ]
  },
  {
   "cell_type": "code",
   "execution_count": 21,
   "metadata": {},
   "outputs": [],
   "source": [
    "data['Age'] = np.where(data['Age']>60,60,data['Age'])"
   ]
  },
  {
   "cell_type": "code",
   "execution_count": 22,
   "metadata": {},
   "outputs": [
    {
     "data": {
      "text/plain": [
       "<matplotlib.axes._subplots.AxesSubplot at 0x1843640>"
      ]
     },
     "execution_count": 22,
     "metadata": {},
     "output_type": "execute_result"
    },
    {
     "data": {
      "image/png": "[encoded data removed]",
      "text/plain": [
       "<Figure size 432x288 with 1 Axes>"
      ]
     },
     "metadata": {
      "needs_background": "light"
     },
     "output_type": "display_data"
    }
   ],
   "source": [
    "sns.boxplot(data['Job Type'])"
   ]
  },
  {
   "cell_type": "code",
   "execution_count": 23,
   "metadata": {},
   "outputs": [],
   "source": [
    "data['Job Type']=np.where(data['Job Type']>2,2, data['Job Type'])"
   ]
  },
  {
   "cell_type": "code",
   "execution_count": 24,
   "metadata": {},
   "outputs": [
    {
     "data": {
      "text/plain": [
       "<matplotlib.axes._subplots.AxesSubplot at 0x1719b38>"
      ]
     },
     "execution_count": 24,
     "metadata": {},
     "output_type": "execute_result"
    },
    {
     "data": {
      "image/png": "[encoded data removed]",
      "text/plain": [
       "<Figure size 432x288 with 1 Axes>"
      ]
     },
     "metadata": {
      "needs_background": "light"
     },
     "output_type": "display_data"
    }
   ],
   "source": [
    "sns.boxplot(data['Marital Status'])"
   ]
  },
  {
   "cell_type": "code",
   "execution_count": 25,
   "metadata": {},
   "outputs": [
    {
     "data": {
      "text/plain": [
       "<matplotlib.axes._subplots.AxesSubplot at 0x18b5a48>"
      ]
     },
     "execution_count": 25,
     "metadata": {},
     "output_type": "execute_result"
    },
    {
     "data": {
      "image/png": "[encoded data removed]",
      "text/plain": [
       "<Figure size 432x288 with 1 Axes>"
      ]
     },
     "metadata": {
      "needs_background": "light"
     },
     "output_type": "display_data"
    }
   ],
   "source": [
    "sns.boxplot(data['Signed in since(Days)'])"
   ]
  },
  {
   "cell_type": "code",
   "execution_count": 26,
   "metadata": {},
   "outputs": [
    {
     "data": {
      "text/plain": [
       "34.0"
      ]
     },
     "execution_count": 26,
     "metadata": {},
     "output_type": "execute_result"
    }
   ],
   "source": [
    "data['Signed in since(Days)'].quantile(0.04)"
   ]
  },
  {
   "cell_type": "code",
   "execution_count": 27,
   "metadata": {},
   "outputs": [],
   "source": [
    "data['Signed in since(Days)'] = np.where(data['Signed in since(Days)']<34,34 , data['Signed in since(Days)'])"
   ]
  },
  {
   "cell_type": "code",
   "execution_count": 28,
   "metadata": {},
   "outputs": [
    {
     "data": {
      "text/plain": [
       "<matplotlib.axes._subplots.AxesSubplot at 0x18e5298>"
      ]
     },
     "execution_count": 28,
     "metadata": {},
     "output_type": "execute_result"
    },
    {
     "data": {
      "image/png": "[encoded data removed]",
      "text/plain": [
       "<Figure size 432x288 with 1 Axes>"
      ]
     },
     "metadata": {
      "needs_background": "light"
     },
     "output_type": "display_data"
    }
   ],
   "source": [
    "sns.boxplot(data['Purchase made'])"
   ]
  },
  {
   "cell_type": "code",
   "execution_count": 29,
   "metadata": {},
   "outputs": [
    {
     "data": {
      "text/plain": [
       "16055.347119999997"
      ]
     },
     "execution_count": 29,
     "metadata": {},
     "output_type": "execute_result"
    }
   ],
   "source": [
    "data['Purchase made'].quantile(0.99)"
   ]
  },
  {
   "cell_type": "code",
   "execution_count": 30,
   "metadata": {},
   "outputs": [],
   "source": [
    "data['Purchase made']=np.where(data['Purchase made']>16056,16056,data['Purchase made'])"
   ]
  },
  {
   "cell_type": "markdown",
   "metadata": {},
   "source": [
    "## Feature Selection"
   ]
  },
  {
   "cell_type": "code",
   "execution_count": 31,
   "metadata": {},
   "outputs": [],
   "source": [
    "import statsmodels.api as sm"
   ]
  },
  {
   "cell_type": "code",
   "execution_count": 32,
   "metadata": {},
   "outputs": [],
   "source": [
    "Y  = data['Purchase made']\n",
    "X= data.drop(['Purchase made'], axis=1)"
   ]
  },
  {
   "cell_type": "code",
   "execution_count": 33,
   "metadata": {},
   "outputs": [],
   "source": [
    "X_con=sm.add_constant(X)"
   ]
  },
  {
   "cell_type": "code",
   "execution_count": 34,
   "metadata": {},
   "outputs": [],
   "source": [
    "model=sm.OLS(Y,X_con).fit()"
   ]
  },
  {
   "cell_type": "code",
   "execution_count": 35,
   "metadata": {},
   "outputs": [
    {
     "data": {
      "text/html": [
       "<table class=\"simpletable\">\n",
       "<caption>OLS Regression Results</caption>\n",
       "<tr>\n",
       "  <th>Dep. Variable:</th>      <td>Purchase made</td>  <th>  R-squared:         </th> <td>   0.817</td> \n",
       "</tr>\n",
       "<tr>\n",
       "  <th>Model:</th>                   <td>OLS</td>       <th>  Adj. R-squared:    </th> <td>   0.813</td> \n",
       "</tr>\n",
       "<tr>\n",
       "  <th>Method:</th>             <td>Least Squares</td>  <th>  F-statistic:       </th> <td>   236.4</td> \n",
       "</tr>\n",
       "<tr>\n",
       "  <th>Date:</th>             <td>Sun, 04 Jul 2021</td> <th>  Prob (F-statistic):</th> <td>5.15e-114</td>\n",
       "</tr>\n",
       "<tr>\n",
       "  <th>Time:</th>                 <td>00:31:14</td>     <th>  Log-Likelihood:    </th> <td> -2859.6</td> \n",
       "</tr>\n",
       "<tr>\n",
       "  <th>No. Observations:</th>      <td>   325</td>      <th>  AIC:               </th> <td>   5733.</td> \n",
       "</tr>\n",
       "<tr>\n",
       "  <th>Df Residuals:</th>          <td>   318</td>      <th>  BIC:               </th> <td>   5760.</td> \n",
       "</tr>\n",
       "<tr>\n",
       "  <th>Df Model:</th>              <td>     6</td>      <th>                     </th>     <td> </td>    \n",
       "</tr>\n",
       "<tr>\n",
       "  <th>Covariance Type:</th>      <td>nonrobust</td>    <th>                     </th>     <td> </td>    \n",
       "</tr>\n",
       "</table>\n",
       "<table class=\"simpletable\">\n",
       "<tr>\n",
       "            <td></td>               <th>coef</th>     <th>std err</th>      <th>t</th>      <th>P>|t|</th>  <th>[0.025</th>    <th>0.975]</th>  \n",
       "</tr>\n",
       "<tr>\n",
       "  <th>const</th>                 <td>-8567.4019</td> <td>  635.107</td> <td>  -13.490</td> <td> 0.000</td> <td>-9816.945</td> <td>-7317.859</td>\n",
       "</tr>\n",
       "<tr>\n",
       "  <th>Age</th>                   <td>   33.2181</td> <td>   11.290</td> <td>    2.942</td> <td> 0.003</td> <td>   11.006</td> <td>   55.430</td>\n",
       "</tr>\n",
       "<tr>\n",
       "  <th>Job Type</th>              <td> -157.4432</td> <td>  120.869</td> <td>   -1.303</td> <td> 0.194</td> <td> -395.247</td> <td>   80.361</td>\n",
       "</tr>\n",
       "<tr>\n",
       "  <th>Marital Status</th>        <td> -601.1557</td> <td>  241.936</td> <td>   -2.485</td> <td> 0.013</td> <td>-1077.153</td> <td> -125.158</td>\n",
       "</tr>\n",
       "<tr>\n",
       "  <th>Education</th>             <td> -561.2781</td> <td>  105.788</td> <td>   -5.306</td> <td> 0.000</td> <td> -769.411</td> <td> -353.145</td>\n",
       "</tr>\n",
       "<tr>\n",
       "  <th>Metro City</th>            <td> 1354.5824</td> <td>  296.651</td> <td>    4.566</td> <td> 0.000</td> <td>  770.936</td> <td> 1938.229</td>\n",
       "</tr>\n",
       "<tr>\n",
       "  <th>Signed in since(Days)</th> <td>  181.8632</td> <td>    5.650</td> <td>   32.189</td> <td> 0.000</td> <td>  170.747</td> <td>  192.979</td>\n",
       "</tr>\n",
       "</table>\n",
       "<table class=\"simpletable\">\n",
       "<tr>\n",
       "  <th>Omnibus:</th>       <td> 7.806</td> <th>  Durbin-Watson:     </th> <td>   1.001</td>\n",
       "</tr>\n",
       "<tr>\n",
       "  <th>Prob(Omnibus):</th> <td> 0.020</td> <th>  Jarque-Bera (JB):  </th> <td>   8.041</td>\n",
       "</tr>\n",
       "<tr>\n",
       "  <th>Skew:</th>          <td> 0.383</td> <th>  Prob(JB):          </th> <td>  0.0179</td>\n",
       "</tr>\n",
       "<tr>\n",
       "  <th>Kurtosis:</th>      <td> 2.920</td> <th>  Cond. No.          </th> <td>    635.</td>\n",
       "</tr>\n",
       "</table><br/><br/>Warnings:<br/>[1] Standard Errors assume that the covariance matrix of the errors is correctly specified."
      ],
      "text/plain": [
       "<class 'statsmodels.iolib.summary.Summary'>\n",
       "\"\"\"\n",
       "                            OLS Regression Results                            \n",
       "==============================================================================\n",
       "Dep. Variable:          Purchase made   R-squared:                       0.817\n",
       "Model:                            OLS   Adj. R-squared:                  0.813\n",
       "Method:                 Least Squares   F-statistic:                     236.4\n",
       "Date:                Sun, 04 Jul 2021   Prob (F-statistic):          5.15e-114\n",
       "Time:                        00:31:14   Log-Likelihood:                -2859.6\n",
       "No. Observations:                 325   AIC:                             5733.\n",
       "Df Residuals:                     318   BIC:                             5760.\n",
       "Df Model:                           6                                         \n",
       "Covariance Type:            nonrobust                                         \n",
       "=========================================================================================\n",
       "                            coef    std err          t      P>|t|      [0.025      0.975]\n",
       "-----------------------------------------------------------------------------------------\n",
       "const                 -8567.4019    635.107    -13.490      0.000   -9816.945   -7317.859\n",
       "Age                      33.2181     11.290      2.942      0.003      11.006      55.430\n",
       "Job Type               -157.4432    120.869     -1.303      0.194    -395.247      80.361\n",
       "Marital Status         -601.1557    241.936     -2.485      0.013   -1077.153    -125.158\n",
       "Education              -561.2781    105.788     -5.306      0.000    -769.411    -353.145\n",
       "Metro City             1354.5824    296.651      4.566      0.000     770.936    1938.229\n",
       "Signed in since(Days)   181.8632      5.650     32.189      0.000     170.747     192.979\n",
       "==============================================================================\n",
       "Omnibus:                        7.806   Durbin-Watson:                   1.001\n",
       "Prob(Omnibus):                  0.020   Jarque-Bera (JB):                8.041\n",
       "Skew:                           0.383   Prob(JB):                       0.0179\n",
       "Kurtosis:                       2.920   Cond. No.                         635.\n",
       "==============================================================================\n",
       "\n",
       "Warnings:\n",
       "[1] Standard Errors assume that the covariance matrix of the errors is correctly specified.\n",
       "\"\"\""
      ]
     },
     "execution_count": 35,
     "metadata": {},
     "output_type": "execute_result"
    }
   ],
   "source": [
    "model.summary()"
   ]
  },
  {
   "cell_type": "code",
   "execution_count": 36,
   "metadata": {},
   "outputs": [],
   "source": [
    "X1=X_con.drop(['Job Type'], axis=1)"
   ]
  },
  {
   "cell_type": "code",
   "execution_count": 37,
   "metadata": {},
   "outputs": [],
   "source": [
    "model1= sm.OLS(Y,X1).fit()"
   ]
  },
  {
   "cell_type": "code",
   "execution_count": 38,
   "metadata": {},
   "outputs": [
    {
     "data": {
      "text/html": [
       "<table class=\"simpletable\">\n",
       "<caption>OLS Regression Results</caption>\n",
       "<tr>\n",
       "  <th>Dep. Variable:</th>      <td>Purchase made</td>  <th>  R-squared:         </th> <td>   0.816</td> \n",
       "</tr>\n",
       "<tr>\n",
       "  <th>Model:</th>                   <td>OLS</td>       <th>  Adj. R-squared:    </th> <td>   0.813</td> \n",
       "</tr>\n",
       "<tr>\n",
       "  <th>Method:</th>             <td>Least Squares</td>  <th>  F-statistic:       </th> <td>   282.8</td> \n",
       "</tr>\n",
       "<tr>\n",
       "  <th>Date:</th>             <td>Sun, 04 Jul 2021</td> <th>  Prob (F-statistic):</th> <td>6.76e-115</td>\n",
       "</tr>\n",
       "<tr>\n",
       "  <th>Time:</th>                 <td>00:31:14</td>     <th>  Log-Likelihood:    </th> <td> -2860.4</td> \n",
       "</tr>\n",
       "<tr>\n",
       "  <th>No. Observations:</th>      <td>   325</td>      <th>  AIC:               </th> <td>   5733.</td> \n",
       "</tr>\n",
       "<tr>\n",
       "  <th>Df Residuals:</th>          <td>   319</td>      <th>  BIC:               </th> <td>   5756.</td> \n",
       "</tr>\n",
       "<tr>\n",
       "  <th>Df Model:</th>              <td>     5</td>      <th>                     </th>     <td> </td>    \n",
       "</tr>\n",
       "<tr>\n",
       "  <th>Covariance Type:</th>      <td>nonrobust</td>    <th>                     </th>     <td> </td>    \n",
       "</tr>\n",
       "</table>\n",
       "<table class=\"simpletable\">\n",
       "<tr>\n",
       "            <td></td>               <th>coef</th>     <th>std err</th>      <th>t</th>      <th>P>|t|</th>  <th>[0.025</th>    <th>0.975]</th>  \n",
       "</tr>\n",
       "<tr>\n",
       "  <th>const</th>                 <td>-8685.2367</td> <td>  629.318</td> <td>  -13.801</td> <td> 0.000</td> <td>-9923.375</td> <td>-7447.099</td>\n",
       "</tr>\n",
       "<tr>\n",
       "  <th>Age</th>                   <td>   31.7465</td> <td>   11.245</td> <td>    2.823</td> <td> 0.005</td> <td>    9.622</td> <td>   53.871</td>\n",
       "</tr>\n",
       "<tr>\n",
       "  <th>Marital Status</th>        <td> -585.0170</td> <td>  241.882</td> <td>   -2.419</td> <td> 0.016</td> <td>-1060.903</td> <td> -109.131</td>\n",
       "</tr>\n",
       "<tr>\n",
       "  <th>Education</th>             <td> -583.8065</td> <td>  104.479</td> <td>   -5.588</td> <td> 0.000</td> <td> -789.361</td> <td> -378.252</td>\n",
       "</tr>\n",
       "<tr>\n",
       "  <th>Metro City</th>            <td> 1375.2897</td> <td>  296.548</td> <td>    4.638</td> <td> 0.000</td> <td>  791.853</td> <td> 1958.726</td>\n",
       "</tr>\n",
       "<tr>\n",
       "  <th>Signed in since(Days)</th> <td>  182.9844</td> <td>    5.590</td> <td>   32.734</td> <td> 0.000</td> <td>  171.986</td> <td>  193.982</td>\n",
       "</tr>\n",
       "</table>\n",
       "<table class=\"simpletable\">\n",
       "<tr>\n",
       "  <th>Omnibus:</th>       <td> 8.115</td> <th>  Durbin-Watson:     </th> <td>   0.996</td>\n",
       "</tr>\n",
       "<tr>\n",
       "  <th>Prob(Omnibus):</th> <td> 0.017</td> <th>  Jarque-Bera (JB):  </th> <td>   8.302</td>\n",
       "</tr>\n",
       "<tr>\n",
       "  <th>Skew:</th>          <td> 0.391</td> <th>  Prob(JB):          </th> <td>  0.0158</td>\n",
       "</tr>\n",
       "<tr>\n",
       "  <th>Kurtosis:</th>      <td> 2.976</td> <th>  Cond. No.          </th> <td>    629.</td>\n",
       "</tr>\n",
       "</table><br/><br/>Warnings:<br/>[1] Standard Errors assume that the covariance matrix of the errors is correctly specified."
      ],
      "text/plain": [
       "<class 'statsmodels.iolib.summary.Summary'>\n",
       "\"\"\"\n",
       "                            OLS Regression Results                            \n",
       "==============================================================================\n",
       "Dep. Variable:          Purchase made   R-squared:                       0.816\n",
       "Model:                            OLS   Adj. R-squared:                  0.813\n",
       "Method:                 Least Squares   F-statistic:                     282.8\n",
       "Date:                Sun, 04 Jul 2021   Prob (F-statistic):          6.76e-115\n",
       "Time:                        00:31:14   Log-Likelihood:                -2860.4\n",
       "No. Observations:                 325   AIC:                             5733.\n",
       "Df Residuals:                     319   BIC:                             5756.\n",
       "Df Model:                           5                                         \n",
       "Covariance Type:            nonrobust                                         \n",
       "=========================================================================================\n",
       "                            coef    std err          t      P>|t|      [0.025      0.975]\n",
       "-----------------------------------------------------------------------------------------\n",
       "const                 -8685.2367    629.318    -13.801      0.000   -9923.375   -7447.099\n",
       "Age                      31.7465     11.245      2.823      0.005       9.622      53.871\n",
       "Marital Status         -585.0170    241.882     -2.419      0.016   -1060.903    -109.131\n",
       "Education              -583.8065    104.479     -5.588      0.000    -789.361    -378.252\n",
       "Metro City             1375.2897    296.548      4.638      0.000     791.853    1958.726\n",
       "Signed in since(Days)   182.9844      5.590     32.734      0.000     171.986     193.982\n",
       "==============================================================================\n",
       "Omnibus:                        8.115   Durbin-Watson:                   0.996\n",
       "Prob(Omnibus):                  0.017   Jarque-Bera (JB):                8.302\n",
       "Skew:                           0.391   Prob(JB):                       0.0158\n",
       "Kurtosis:                       2.976   Cond. No.                         629.\n",
       "==============================================================================\n",
       "\n",
       "Warnings:\n",
       "[1] Standard Errors assume that the covariance matrix of the errors is correctly specified.\n",
       "\"\"\""
      ]
     },
     "execution_count": 38,
     "metadata": {},
     "output_type": "execute_result"
    }
   ],
   "source": [
    "model1.summary()"
   ]
  },
  {
   "cell_type": "markdown",
   "metadata": {},
   "source": [
    "## Now check multi-colliniearity"
   ]
  },
  {
   "cell_type": "code",
   "execution_count": 39,
   "metadata": {},
   "outputs": [
    {
     "data": {
      "text/html": [
       "<div>\n",
       "<style scoped>\n",
       "    .dataframe tbody tr th:only-of-type {\n",
       "        vertical-align: middle;\n",
       "    }\n",
       "\n",
       "    .dataframe tbody tr th {\n",
       "        vertical-align: top;\n",
       "    }\n",
       "\n",
       "    .dataframe thead th {\n",
       "        text-align: right;\n",
       "    }\n",
       "</style>\n",
       "<table border=\"1\" class=\"dataframe\">\n",
       "  <thead>\n",
       "    <tr style=\"text-align: right;\">\n",
       "      <th></th>\n",
       "      <th>VIF Factor</th>\n",
       "      <th>features</th>\n",
       "    </tr>\n",
       "  </thead>\n",
       "  <tbody>\n",
       "    <tr>\n",
       "      <th>0</th>\n",
       "      <td>48.9</td>\n",
       "      <td>const</td>\n",
       "    </tr>\n",
       "    <tr>\n",
       "      <th>1</th>\n",
       "      <td>1.0</td>\n",
       "      <td>Age</td>\n",
       "    </tr>\n",
       "    <tr>\n",
       "      <th>2</th>\n",
       "      <td>1.7</td>\n",
       "      <td>Marital Status</td>\n",
       "    </tr>\n",
       "    <tr>\n",
       "      <th>3</th>\n",
       "      <td>1.0</td>\n",
       "      <td>Education</td>\n",
       "    </tr>\n",
       "    <tr>\n",
       "      <th>4</th>\n",
       "      <td>1.8</td>\n",
       "      <td>Metro City</td>\n",
       "    </tr>\n",
       "    <tr>\n",
       "      <th>5</th>\n",
       "      <td>1.1</td>\n",
       "      <td>Signed in since(Days)</td>\n",
       "    </tr>\n",
       "  </tbody>\n",
       "</table>\n",
       "</div>"
      ],
      "text/plain": [
       "   VIF Factor               features\n",
       "0        48.9                  const\n",
       "1         1.0                    Age\n",
       "2         1.7         Marital Status\n",
       "3         1.0              Education\n",
       "4         1.8             Metro City\n",
       "5         1.1  Signed in since(Days)"
      ]
     },
     "execution_count": 39,
     "metadata": {},
     "output_type": "execute_result"
    }
   ],
   "source": [
    "from patsy import dmatrices\n",
    "\n",
    "from statsmodels.stats.outliers_influence import variance_inflation_factor\n",
    "\n",
    "\n",
    "#Step:Calculate VIF Factors\n",
    "\n",
    "\n",
    "# For each X, calculate VIF and save in dataframe\n",
    "vif = pd.DataFrame()\n",
    "vif[\"VIF Factor\"] = [variance_inflation_factor(X1.values, i)for i in range(X1.shape[1])]\n",
    "vif[\"features\"] = X1.columns\n",
    "\n",
    "#Step:Inspect VIF Factors\n",
    "vif.round(1)\n"
   ]
  },
  {
   "cell_type": "code",
   "execution_count": 40,
   "metadata": {},
   "outputs": [],
   "source": [
    "X2=X1.drop(['const'],axis=1)"
   ]
  },
  {
   "cell_type": "code",
   "execution_count": 41,
   "metadata": {},
   "outputs": [
    {
     "data": {
      "text/html": [
       "<div>\n",
       "<style scoped>\n",
       "    .dataframe tbody tr th:only-of-type {\n",
       "        vertical-align: middle;\n",
       "    }\n",
       "\n",
       "    .dataframe tbody tr th {\n",
       "        vertical-align: top;\n",
       "    }\n",
       "\n",
       "    .dataframe thead th {\n",
       "        text-align: right;\n",
       "    }\n",
       "</style>\n",
       "<table border=\"1\" class=\"dataframe\">\n",
       "  <thead>\n",
       "    <tr style=\"text-align: right;\">\n",
       "      <th></th>\n",
       "      <th>VIF Factor</th>\n",
       "      <th>features</th>\n",
       "    </tr>\n",
       "  </thead>\n",
       "  <tbody>\n",
       "    <tr>\n",
       "      <th>0</th>\n",
       "      <td>12.6</td>\n",
       "      <td>Age</td>\n",
       "    </tr>\n",
       "    <tr>\n",
       "      <th>1</th>\n",
       "      <td>4.2</td>\n",
       "      <td>Marital Status</td>\n",
       "    </tr>\n",
       "    <tr>\n",
       "      <th>2</th>\n",
       "      <td>1.4</td>\n",
       "      <td>Education</td>\n",
       "    </tr>\n",
       "    <tr>\n",
       "      <th>3</th>\n",
       "      <td>8.5</td>\n",
       "      <td>Metro City</td>\n",
       "    </tr>\n",
       "    <tr>\n",
       "      <th>4</th>\n",
       "      <td>15.4</td>\n",
       "      <td>Signed in since(Days)</td>\n",
       "    </tr>\n",
       "  </tbody>\n",
       "</table>\n",
       "</div>"
      ],
      "text/plain": [
       "   VIF Factor               features\n",
       "0        12.6                    Age\n",
       "1         4.2         Marital Status\n",
       "2         1.4              Education\n",
       "3         8.5             Metro City\n",
       "4        15.4  Signed in since(Days)"
      ]
     },
     "execution_count": 41,
     "metadata": {},
     "output_type": "execute_result"
    }
   ],
   "source": [
    "\n",
    "# For each X, calculate VIF and save in dataframe\n",
    "vif = pd.DataFrame()\n",
    "vif[\"VIF Factor\"] = [variance_inflation_factor(X2.values, i)for i in range(X2.shape[1])]\n",
    "vif[\"features\"] = X2.columns\n",
    "\n",
    "#Step:Inspect VIF Factors\n",
    "vif.round(1)\n"
   ]
  },
  {
   "cell_type": "code",
   "execution_count": 42,
   "metadata": {},
   "outputs": [],
   "source": [
    "X3=X2.drop(['Signed in since(Days)'], axis=1)"
   ]
  },
  {
   "cell_type": "code",
   "execution_count": 43,
   "metadata": {},
   "outputs": [
    {
     "data": {
      "text/html": [
       "<div>\n",
       "<style scoped>\n",
       "    .dataframe tbody tr th:only-of-type {\n",
       "        vertical-align: middle;\n",
       "    }\n",
       "\n",
       "    .dataframe tbody tr th {\n",
       "        vertical-align: top;\n",
       "    }\n",
       "\n",
       "    .dataframe thead th {\n",
       "        text-align: right;\n",
       "    }\n",
       "</style>\n",
       "<table border=\"1\" class=\"dataframe\">\n",
       "  <thead>\n",
       "    <tr style=\"text-align: right;\">\n",
       "      <th></th>\n",
       "      <th>VIF Factor</th>\n",
       "      <th>features</th>\n",
       "    </tr>\n",
       "  </thead>\n",
       "  <tbody>\n",
       "    <tr>\n",
       "      <th>0</th>\n",
       "      <td>4.1</td>\n",
       "      <td>Age</td>\n",
       "    </tr>\n",
       "    <tr>\n",
       "      <th>1</th>\n",
       "      <td>4.1</td>\n",
       "      <td>Marital Status</td>\n",
       "    </tr>\n",
       "    <tr>\n",
       "      <th>2</th>\n",
       "      <td>1.4</td>\n",
       "      <td>Education</td>\n",
       "    </tr>\n",
       "    <tr>\n",
       "      <th>3</th>\n",
       "      <td>6.9</td>\n",
       "      <td>Metro City</td>\n",
       "    </tr>\n",
       "  </tbody>\n",
       "</table>\n",
       "</div>"
      ],
      "text/plain": [
       "   VIF Factor        features\n",
       "0         4.1             Age\n",
       "1         4.1  Marital Status\n",
       "2         1.4       Education\n",
       "3         6.9      Metro City"
      ]
     },
     "execution_count": 43,
     "metadata": {},
     "output_type": "execute_result"
    }
   ],
   "source": [
    "# For each X, calculate VIF and save in dataframe\n",
    "vif = pd.DataFrame()\n",
    "vif[\"VIF Factor\"] = [variance_inflation_factor(X3.values, i)for i in range(X3.shape[1])]\n",
    "vif[\"features\"] = X3.columns\n",
    "\n",
    "#Step:Inspect VIF Factors\n",
    "vif.round(1)\n"
   ]
  },
  {
   "cell_type": "markdown",
   "metadata": {},
   "source": [
    "## Checked all multi-colliniarity , Now apply final modelling training and testing of data"
   ]
  },
  {
   "cell_type": "code",
   "execution_count": 44,
   "metadata": {},
   "outputs": [],
   "source": [
    "from sklearn.preprocessing import StandardScaler\n",
    "sc= StandardScaler()"
   ]
  },
  {
   "cell_type": "code",
   "execution_count": null,
   "metadata": {},
   "outputs": [],
   "source": []
  },
  {
   "cell_type": "code",
   "execution_count": 45,
   "metadata": {},
   "outputs": [],
   "source": [
    "from sklearn.model_selection import train_test_split\n",
    "x_train,x_test , y_train, y_test=train_test_split(X3,Y , test_size=0.30 , random_state=42)"
   ]
  },
  {
   "cell_type": "code",
   "execution_count": 46,
   "metadata": {},
   "outputs": [],
   "source": [
    "from sklearn.linear_model import LinearRegression\n",
    "lr=LinearRegression()"
   ]
  },
  {
   "cell_type": "code",
   "execution_count": 47,
   "metadata": {},
   "outputs": [
    {
     "data": {
      "text/plain": [
       "LinearRegression()"
      ]
     },
     "execution_count": 47,
     "metadata": {},
     "output_type": "execute_result"
    }
   ],
   "source": [
    "lr.fit(x_train,y_train)\n"
   ]
  },
  {
   "cell_type": "code",
   "execution_count": 48,
   "metadata": {},
   "outputs": [],
   "source": [
    "pred=lr.predict(x_test)"
   ]
  },
  {
   "cell_type": "code",
   "execution_count": 49,
   "metadata": {},
   "outputs": [
    {
     "data": {
      "text/plain": [
       "array([ 7109.41887707, 10585.79162078, 11076.32165045,  5328.23173929,\n",
       "        5907.19582091,  5326.19930081,  8397.06020494,  8397.06020494,\n",
       "        6738.50557457,  7167.71935053,  7722.58141415,  8274.42769752,\n",
       "        8519.69271236,  5694.09682306,  7906.53017528,  5387.51555452,\n",
       "        6123.31059901,  6123.31059901,  7661.26516044,  9132.85524944,\n",
       "        7416.00014561,  6064.02678378,  5450.8642467 , 11198.95415786,\n",
       "        6061.9943453 ,  7906.53017528, 10095.26159112,  5634.81300783,\n",
       "        9724.34828862,  8029.16268269,  7293.3676382 ,  7967.84642898,\n",
       "       11198.95415786,  8274.42769752,  7967.84642898,  6000.6780916 ,\n",
       "        5019.61803227,  7293.3676382 ,  7783.89766786,  7599.94890674,\n",
       "        5450.8642467 ,  7416.00014561,  9849.99657629,  3974.22593898,\n",
       "        5634.81300783, 11015.00539674,  6309.29179862,  7722.58141415,\n",
       "        9911.31282999,  9132.85524944,  6186.6592912 ,  5387.51555452,\n",
       "        5694.09682306,  6861.13808199,  6675.15688239,  8151.79519011,\n",
       "       10647.10787449,  5387.51555452,  5328.23173929,  5941.39427637,\n",
       "        8090.4789364 ,  7232.05138449,  6247.97554491,  8029.16268269,\n",
       "        5941.39427637,  6186.6592912 ,  6064.02678378,  9255.48775685,\n",
       "       11382.90291899,  7538.63265303,  5142.25053968,  7416.00014561,\n",
       "        8887.59023461,  8090.4789364 ,  7906.53017528,  5755.41307676,\n",
       "        5203.56679339,  5634.81300783,  7845.21392157,  5450.8642467 ,\n",
       "       10892.37288932,  6247.97554491,  5939.36183789,  7661.26516044,\n",
       "        6000.6780916 , 10831.05663562,  7599.94890674, 10217.89409854,\n",
       "       10095.26159112,  7170.73513078,  4958.30177856, 10340.52660595,\n",
       "        7232.05138449,  6613.84062868,  7538.63265303, 10401.84285966,\n",
       "        3483.69590931,  8090.4789364 ])"
      ]
     },
     "execution_count": 49,
     "metadata": {},
     "output_type": "execute_result"
    }
   ],
   "source": [
    "pred"
   ]
  },
  {
   "cell_type": "code",
   "execution_count": 50,
   "metadata": {},
   "outputs": [
    {
     "data": {
      "text/plain": [
       "<matplotlib.axes._subplots.AxesSubplot at 0x1d2fe4d8>"
      ]
     },
     "execution_count": 50,
     "metadata": {},
     "output_type": "execute_result"
    },
    {
     "data": {
      "image/png": "[encoded data removed]",
      "text/plain": [
       "<Figure size 432x288 with 1 Axes>"
      ]
     },
     "metadata": {
      "needs_background": "light"
     },
     "output_type": "display_data"
    }
   ],
   "source": [
    "data['Purchase made'].plot.hist()"
   ]
  },
  {
   "cell_type": "code",
   "execution_count": 51,
   "metadata": {},
   "outputs": [
    {
     "name": "stdout",
     "output_type": "stream",
     "text": [
      "\n",
      "-----Sales Predictor-----\n",
      "press 1- predict or 0- Exit\n",
      "Enter your choice:- 0\n",
      "Thanks\n"
     ]
    }
   ],
   "source": [
    "while True:\n",
    "    \n",
    "    print(\"\")\n",
    "    print(\"-----Sales Predictor-----\")\n",
    "    print(\"press 1- predict or 0- Exit\")\n",
    "    ch= int(input(\"Enter your choice:- \"))\n",
    "    \n",
    "    if ch==1:\n",
    "        age=int(input('Enter age '))\n",
    "        mstatus = int(input('Enter marital status 1-Yes or 0-No '))\n",
    "        edu= int(input('Enter Education 0-Graduate or 1-primary or 2-Secondary '))\n",
    "        city=int(input('Living in city or not 0-NO or 1-Yes '))\n",
    "\n",
    "        t_pred = lr.predict([[age,mstatus,edu,city]])\n",
    "        print('')\n",
    "        \n",
    "        print(\"The sales would be\" ,t_pred)\n",
    "        \n",
    "    elif ch==0:\n",
    "        print('Thanks')\n",
    "        break\n",
    "        \n",
    "    else:\n",
    "        print(\"Invalid Choice Try Again\")"
   ]
  },
  {
   "cell_type": "code",
   "execution_count": 52,
   "metadata": {},
   "outputs": [
    {
     "data": {
      "text/plain": [
       "0.06075419573119556"
      ]
     },
     "execution_count": 52,
     "metadata": {},
     "output_type": "execute_result"
    }
   ],
   "source": [
    "from sklearn.metrics import r2_score\n",
    "r2_score(y_test,pred)"
   ]
  },
  {
   "cell_type": "code",
   "execution_count": null,
   "metadata": {},
   "outputs": [],
   "source": []
  }
 ],
 "metadata": {
  "kernelspec": {
   "display_name": "Python 3",
   "language": "python",
   "name": "python3"
  },
  "language_info": {
   "codemirror_mode": {
    "name": "ipython",
    "version": 3
   },
   "file_extension": ".py",
   "mimetype": "text/x-python",
   "name": "python",
   "nbconvert_exporter": "python",
   "pygments_lexer": "ipython3",
   "version": "3.8.2"
  }
 },
 "nbformat": 4,
 "nbformat_minor": 4
}
